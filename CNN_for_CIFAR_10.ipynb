{
  "cells": [
    {
      "cell_type": "code",
      "execution_count": 1,
      "metadata": {
        "id": "qhmtOEFJTNuD"
      },
      "outputs": [],
      "source": [
        "import tensorflow as tf\n",
        "from tensorflow.keras import datasets, layers, models\n",
        "import matplotlib.pyplot as plt"
      ]
    },
    {
      "cell_type": "code",
      "execution_count": 2,
      "metadata": {
        "id": "iIroh60QTNuF"
      },
      "outputs": [],
      "source": [
        "(train_images, train_labels), (test_images, test_labels) = datasets.cifar10.load_data()\n",
        "\n",
        "# Normalization\n",
        "train_images, test_images = train_images / 255.0, test_images / 255.0"
      ]
    },
    {
      "cell_type": "code",
      "execution_count": 3,
      "metadata": {
        "id": "iPCwrj4xTNuF"
      },
      "outputs": [],
      "source": [
        "#Build Model\n",
        "model = models.Sequential()\n",
        "model.add(layers.Conv2D(32, (3, 3), activation='relu', input_shape=(32, 32, 3)))\n",
        "model.add(layers.MaxPooling2D((2, 2)))\n",
        "model.add(layers.Conv2D(64, (3, 3), activation='relu'))\n",
        "model.add(layers.MaxPooling2D((2, 2)))\n",
        "model.add(layers.Conv2D(64, (3, 3), activation='relu'))\n",
        "\n",
        "model.add(layers.Flatten())\n",
        "model.add(layers.Dense(64, activation='relu'))\n",
        "model.add(layers.Dense(10))"
      ]
    },
    {
      "cell_type": "code",
      "execution_count": 4,
      "metadata": {
        "colab": {
          "base_uri": "https://localhost:8080/"
        },
        "id": "qtJn4KNCTNuF",
        "outputId": "92634091-a9e0-4654-b690-14cab33c9b1e"
      },
      "outputs": [
        {
          "output_type": "stream",
          "name": "stdout",
          "text": [
            "Epoch 1/20\n",
            "1563/1563 [==============================] - 13s 6ms/step - loss: 1.5121 - accuracy: 0.4525 - val_loss: 1.2552 - val_accuracy: 0.5480\n",
            "Epoch 2/20\n",
            "1563/1563 [==============================] - 7s 4ms/step - loss: 1.1346 - accuracy: 0.5994 - val_loss: 1.0756 - val_accuracy: 0.6240\n",
            "Epoch 3/20\n",
            "1563/1563 [==============================] - 7s 5ms/step - loss: 0.9782 - accuracy: 0.6568 - val_loss: 0.9674 - val_accuracy: 0.6577\n",
            "Epoch 4/20\n",
            "1563/1563 [==============================] - 7s 4ms/step - loss: 0.8892 - accuracy: 0.6891 - val_loss: 0.9174 - val_accuracy: 0.6833\n",
            "Epoch 5/20\n",
            "1563/1563 [==============================] - 7s 5ms/step - loss: 0.8130 - accuracy: 0.7158 - val_loss: 0.9209 - val_accuracy: 0.6815\n",
            "Epoch 6/20\n",
            "1563/1563 [==============================] - 7s 5ms/step - loss: 0.7581 - accuracy: 0.7341 - val_loss: 0.8533 - val_accuracy: 0.7096\n",
            "Epoch 7/20\n",
            "1563/1563 [==============================] - 8s 5ms/step - loss: 0.7108 - accuracy: 0.7527 - val_loss: 0.8894 - val_accuracy: 0.7033\n",
            "Epoch 8/20\n",
            "1563/1563 [==============================] - 7s 5ms/step - loss: 0.6633 - accuracy: 0.7693 - val_loss: 0.8432 - val_accuracy: 0.7170\n",
            "Epoch 9/20\n",
            "1563/1563 [==============================] - 7s 5ms/step - loss: 0.6280 - accuracy: 0.7806 - val_loss: 0.8817 - val_accuracy: 0.7040\n",
            "Epoch 10/20\n",
            "1563/1563 [==============================] - 7s 5ms/step - loss: 0.5855 - accuracy: 0.7945 - val_loss: 0.8878 - val_accuracy: 0.7149\n",
            "Epoch 11/20\n",
            "1563/1563 [==============================] - 7s 5ms/step - loss: 0.5503 - accuracy: 0.8072 - val_loss: 0.9862 - val_accuracy: 0.6929\n",
            "Epoch 12/20\n",
            "1563/1563 [==============================] - 7s 4ms/step - loss: 0.5171 - accuracy: 0.8180 - val_loss: 0.8972 - val_accuracy: 0.7061\n",
            "Epoch 13/20\n",
            "1563/1563 [==============================] - 7s 5ms/step - loss: 0.4843 - accuracy: 0.8275 - val_loss: 0.9413 - val_accuracy: 0.7077\n",
            "Epoch 14/20\n",
            "1563/1563 [==============================] - 7s 5ms/step - loss: 0.4533 - accuracy: 0.8379 - val_loss: 0.9592 - val_accuracy: 0.7082\n",
            "Epoch 15/20\n",
            "1563/1563 [==============================] - 7s 5ms/step - loss: 0.4260 - accuracy: 0.8495 - val_loss: 1.0087 - val_accuracy: 0.6998\n",
            "Epoch 16/20\n",
            "1563/1563 [==============================] - 8s 5ms/step - loss: 0.3991 - accuracy: 0.8583 - val_loss: 1.0418 - val_accuracy: 0.7037\n",
            "Epoch 17/20\n",
            "1563/1563 [==============================] - 8s 5ms/step - loss: 0.3724 - accuracy: 0.8683 - val_loss: 1.0858 - val_accuracy: 0.6987\n",
            "Epoch 18/20\n",
            "1563/1563 [==============================] - 7s 5ms/step - loss: 0.3463 - accuracy: 0.8763 - val_loss: 1.1581 - val_accuracy: 0.6970\n",
            "Epoch 19/20\n",
            "1563/1563 [==============================] - 8s 5ms/step - loss: 0.3225 - accuracy: 0.8847 - val_loss: 1.1419 - val_accuracy: 0.7100\n",
            "Epoch 20/20\n",
            "1563/1563 [==============================] - 7s 4ms/step - loss: 0.3050 - accuracy: 0.8924 - val_loss: 1.2508 - val_accuracy: 0.7027\n"
          ]
        }
      ],
      "source": [
        "model.compile(optimizer='adam',\n",
        "              loss=tf.keras.losses.SparseCategoricalCrossentropy(from_logits=True),\n",
        "              metrics=['accuracy']\n",
        ")\n",
        "\n",
        "history = model.fit(train_images, train_labels, epochs=20,\n",
        "                    validation_data=(test_images, test_labels))"
      ]
    },
    {
      "cell_type": "code",
      "source": [
        "test_loss, test_acc = model.evaluate(test_images,  test_labels, verbose=2)\n",
        "print('\\nTest accuracy:', test_acc)"
      ],
      "metadata": {
        "colab": {
          "base_uri": "https://localhost:8080/"
        },
        "id": "RJANC4VoTURd",
        "outputId": "ac4df49f-2de1-4b0d-afbe-bae3267951a7"
      },
      "execution_count": 5,
      "outputs": [
        {
          "output_type": "stream",
          "name": "stdout",
          "text": [
            "313/313 - 1s - loss: 1.2508 - accuracy: 0.7027 - 645ms/epoch - 2ms/step\n",
            "\n",
            "Test accuracy: 0.7027000188827515\n"
          ]
        }
      ]
    }
  ],
  "metadata": {
    "kernelspec": {
      "display_name": "Python 3",
      "name": "python3"
    },
    "language_info": {
      "name": "python",
      "version": "3.11.6"
    },
    "colab": {
      "provenance": [],
      "gpuType": "T4"
    },
    "accelerator": "GPU"
  },
  "nbformat": 4,
  "nbformat_minor": 0
}